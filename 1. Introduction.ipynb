{
 "cells": [
  {
   "cell_type": "markdown",
   "id": "cb9e8fb0-ec83-478f-8420-1ed0b3a3a6df",
   "metadata": {},
   "source": [
    "# Statistical Learning\n",
    "Tools (Supervised, Unsupervised) to understand data\n",
    "\n",
    "## Process\n",
    "Build a statistical model that takes some inputs and estimates an output\n",
    "\n",
    "## Problems\n",
    "### Regression\n",
    "Dataset for how **Wage** relates to Age, Year, and Education of a person\n",
    "![dataset - wage](images/dataset-wage.png)\n",
    "The goal is to predict Wage - a Continuous/Quantitative output\n",
    "### Classification\n",
    "Dataset for daily movements of S&P500 over a course of 5 years\n",
    "![dataset - S&P500](images/dataset-s&p500.png)\n",
    "The goal is to predict whether the market will Increase OR Decrease - a Discrete/Qualitative output\n",
    "### Clustering\n",
    "Dataset for 6380 gene's activity levels for each of 64 cancer lines\n",
    "![dataset - NCI60](images/dataset-nci60.png)\n",
    "The goal is not to predict an output but to determine groups\n",
    "> Different from predicting group for in Classification WE specify the groups unlike Clustering\n"
   ]
  },
  {
   "cell_type": "code",
   "execution_count": null,
   "id": "c2066419-4cd0-46a6-ad57-5b5a5b590038",
   "metadata": {},
   "outputs": [],
   "source": []
  }
 ],
 "metadata": {
  "kernelspec": {
   "display_name": "Python 3 (ipykernel)",
   "language": "python",
   "name": "python3"
  },
  "language_info": {
   "codemirror_mode": {
    "name": "ipython",
    "version": 3
   },
   "file_extension": ".py",
   "mimetype": "text/x-python",
   "name": "python",
   "nbconvert_exporter": "python",
   "pygments_lexer": "ipython3",
   "version": "3.11.4"
  }
 },
 "nbformat": 4,
 "nbformat_minor": 5
}
